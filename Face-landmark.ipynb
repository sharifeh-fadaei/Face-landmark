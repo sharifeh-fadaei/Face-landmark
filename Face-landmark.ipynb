{
 "cells": [
  {
   "cell_type": "code",
   "execution_count": null,
   "metadata": {},
   "outputs": [],
   "source": [
    "import cv2\n",
    "import numpy as np\n",
    "import dlib"
   ]
  },
  {
   "cell_type": "code",
   "execution_count": null,
   "metadata": {},
   "outputs": [],
   "source": [
    "cap=cv2.VideoCapture(0)\n",
    "detector=dlib.get_frontal_face_detector()\n",
    "predictor=dlib.shape_predictor(\"shape_predictor_68_face_landmarks.dat\")\n",
    "\n",
    "while True:\n",
    "    _,frame=cap.read()\n",
    "    gray=cv2.cvtColor(frame,cv2.COLOR_BGR2GRAY)\n",
    "    faces=detector(gray)\n",
    "    for face in faces:\n",
    "        #print(faces)\n",
    "        x1=face.left()\n",
    "        y1=face.top()\n",
    "        x2=face.right()\n",
    "        y2=face.bottom()\n",
    "       # cv2.rectangle(frame,(x1,y1),(x2,y2),(0,255,0),3)\n",
    "        landmarks=predictor(gray,face)\n",
    "        #print(landmarks)\n",
    "        x=landmarks.part(0).x #show point 0\n",
    "        y=landmarks.part(0).y  #show point 0\n",
    "        cv2.circle(frame,(x,y),3,(255,0,0),-1)  #show point 0\n",
    "        \n",
    "        x=landmarks.part(27).x #show point 27\n",
    "        y=landmarks.part(27).y  #show point 27\n",
    "        cv2.circle(frame,(x,y),6,(255,0,0),-1)  #show point 27\n",
    "        \n",
    "        for n in range(0,68):\n",
    "            x=landmarks.part(n).x #show  all point \n",
    "            y=landmarks.part(n).y  #show all point \n",
    "            cv2.circle(frame,(x,y),6,(255,0,0),-1)  #show all point\n",
    "        \n",
    "        \n",
    "    cv2.imshow(\"Frame\",frame)\n",
    "    \n",
    "    \n",
    "    key=cv2.waitKey(1)\n",
    "    if key==27:\n",
    "        break"
   ]
  },
  {
   "cell_type": "code",
   "execution_count": null,
   "metadata": {},
   "outputs": [],
   "source": []
  },
  {
   "cell_type": "code",
   "execution_count": null,
   "metadata": {},
   "outputs": [],
   "source": []
  }
 ],
 "metadata": {
  "kernelspec": {
   "display_name": "Python 3 (ipykernel)",
   "language": "python",
   "name": "python3"
  },
  "language_info": {
   "codemirror_mode": {
    "name": "ipython",
    "version": 3
   },
   "file_extension": ".py",
   "mimetype": "text/x-python",
   "name": "python",
   "nbconvert_exporter": "python",
   "pygments_lexer": "ipython3",
   "version": "3.9.9"
  }
 },
 "nbformat": 4,
 "nbformat_minor": 4
}
